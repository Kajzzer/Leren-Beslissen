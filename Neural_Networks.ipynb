{
 "cells": [
  {
   "cell_type": "markdown",
   "metadata": {},
   "source": [
    "# Multilayer Perceptron Neural Network\n",
    "\n",
    "The standard NN of sklearn\n",
    "\n",
    "#### NOTE: This ipynb takes a lot of time to actually run, this is not used for the final solution so spare yourself the pain"
   ]
  },
  {
   "cell_type": "code",
   "execution_count": null,
   "metadata": {},
   "outputs": [],
   "source": [
    "'''\n",
    "Import cell\n",
    "'''\n",
    "\n",
    "import numpy as np\n",
    "import pandas as pd\n",
    "\n",
    "from sklearn import metrics\n",
    "from sklearn.neural_network import MLPClassifier"
   ]
  },
  {
   "cell_type": "code",
   "execution_count": null,
   "metadata": {},
   "outputs": [],
   "source": [
    "'''\n",
    "Data retrieval cell\n",
    "'''\n",
    "\n",
    "# get the data sets\n",
    "train_set = pd.read_csv(\"preprocessed_train_split_feat.csv\")\n",
    "test_set = pd.read_csv(\"preprocessed_validation_split_feat.csv\")\n",
    "\n",
    "# get the labels\n",
    "train_labels = np.asarray(list(pd.read_csv(\"train_split_label.csv\").Label))\n",
    "test_labels = np.asarray(list(pd.read_csv(\"validation_split_label.csv\").Label))"
   ]
  },
  {
   "cell_type": "code",
   "execution_count": null,
   "metadata": {
    "scrolled": true
   },
   "outputs": [],
   "source": [
    "'''\n",
    "Get the best parameters\n",
    "\n",
    "NOTE: This cell takes a long time to compute. With the Intel i7 7900 it took ~50 minutes.\n",
    "'''\n",
    "\n",
    "from sklearn.model_selection import GridSearchCV\n",
    "from sklearn.metrics import classification_report\n",
    "\n",
    "# Split the dataset in two equal parts\n",
    "X_train = train_set\n",
    "X_test = test_set\n",
    "y_train = train_labels\n",
    "y_test = test_labels\n",
    "\n",
    "layers = [(x,) for x in range(1,10)]\n",
    "# layers += [(x, y) for x in range(1,10) for y in range(1,10) ]\n",
    "\n",
    "\n",
    "parameters = {'solver': ['lbfgs'], 'max_iter': [1000,1100,1200,1300,1400,1500,1600,1700,1800,1900,2000], 'alpha': 10.0 ** np.arange(-10, 5), 'hidden_layer_sizes':layers, 'random_state':[0,1,2,3,4,5,6,7,8,9]}\n",
    "\n",
    "clf = GridSearchCV(MLPClassifier(), parameters, n_jobs=-1)\n",
    "clf.fit(X_train, y_train)\n",
    "\n",
    "print(\"Best parameters set found on development set:\")\n",
    "print()\n",
    "print(clf.best_params_)\n",
    "print()\n",
    "print(\"Grid scores on development set:\")\n",
    "print()\n",
    "means = clf.cv_results_['mean_test_score']\n",
    "stds = clf.cv_results_['std_test_score']\n",
    "for mean, std, params in zip(means, stds, clf.cv_results_['params']):\n",
    "    print(\"%0.3f (+/-%0.03f) for %r\"\n",
    "          % (mean, std * 2, params))\n",
    "print()\n",
    "\n",
    "print(\"Detailed classification report:\")\n",
    "print()\n",
    "print(\"The model is trained on the full development set.\")\n",
    "print(\"The scores are computed on the full evaluation set.\")\n",
    "print()\n",
    "y_true, y_pred = y_test, clf.predict(X_test)\n",
    "print(classification_report(y_true, y_pred))\n"
   ]
  },
  {
   "cell_type": "code",
   "execution_count": null,
   "metadata": {},
   "outputs": [],
   "source": [
    "'''\n",
    "Use the best parameters to predict the validation labels\n",
    "'''\n",
    "\n",
    "# create the ML model and fit the data\n",
    "test_clf = MLPClassifier(clf.best_params_)\n",
    "\n",
    "# fit the model\n",
    "test_clf.fit(train_set, train_labels) \n",
    "\n",
    "# predict the labels\n",
    "pred = test_clf.predict(test_set)"
   ]
  },
  {
   "cell_type": "code",
   "execution_count": null,
   "metadata": {},
   "outputs": [],
   "source": [
    "# print the prediction\n",
    "print(pred)"
   ]
  },
  {
   "cell_type": "code",
   "execution_count": null,
   "metadata": {},
   "outputs": [],
   "source": [
    "# calculate and print the accuracy\n",
    "print(metrics.accuracy_score(pred, test_labels))"
   ]
  },
  {
   "cell_type": "code",
   "execution_count": null,
   "metadata": {},
   "outputs": [],
   "source": []
  },
  {
   "cell_type": "code",
   "execution_count": null,
   "metadata": {},
   "outputs": [],
   "source": []
  }
 ],
 "metadata": {
  "kernelspec": {
   "display_name": "Python 3",
   "language": "python",
   "name": "python3"
  },
  "language_info": {
   "codemirror_mode": {
    "name": "ipython",
    "version": 3
   },
   "file_extension": ".py",
   "mimetype": "text/x-python",
   "name": "python",
   "nbconvert_exporter": "python",
   "pygments_lexer": "ipython3",
   "version": "3.6.7"
  }
 },
 "nbformat": 4,
 "nbformat_minor": 2
}
