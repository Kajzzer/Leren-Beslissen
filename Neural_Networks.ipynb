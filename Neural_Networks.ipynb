{
 "cells": [
  {
   "cell_type": "markdown",
   "metadata": {},
   "source": [
    "# Multilayer Perceptron Neural Network\n",
    "\n",
    "The standard NN of sklearn\n",
    "\n",
    "#### NOTE: This ipynb takes a lot of time to actually run, this is not used for the final solution so spare yourself the pain"
   ]
  },
  {
   "cell_type": "code",
   "execution_count": 1,
   "metadata": {},
   "outputs": [],
   "source": [
    "'''\n",
    "Import cell\n",
    "'''\n",
    "\n",
    "import numpy as np\n",
    "import pandas as pd\n",
    "\n",
    "from sklearn import metrics\n",
    "from sklearn.neural_network import MLPClassifier"
   ]
  },
  {
   "cell_type": "code",
   "execution_count": null,
   "metadata": {},
   "outputs": [],
   "source": [
    "'''\n",
    "Data retrieval cell\n",
    "'''\n",
    "\n",
    "# get the data sets\n",
    "train_set = pd.read_csv(\"preprocessed_train_split_feat.csv\")\n",
    "test_set = pd.read_csv(\"preprocessed_validation_split_feat.csv\")\n",
    "\n",
    "# get the labels\n",
    "train_labels = np.asarray(list(pd.read_csv(\"train_split_label.csv\").Label))\n",
    "test_labels = np.asarray(list(pd.read_csv(\"validation_split_label.csv\").Label))"
   ]
  },
  {
   "cell_type": "code",
   "execution_count": null,
   "metadata": {
    "scrolled": true
   },
   "outputs": [
    {
     "name": "stderr",
     "output_type": "stream",
     "text": [
      "/home/kaj/.local/lib/python3.6/site-packages/sklearn/model_selection/_split.py:2053: FutureWarning: You should specify a value for 'cv' instead of relying on the default value. The default value will change from 3 to 5 in version 0.22.\n",
      "  warnings.warn(CV_WARNING, FutureWarning)\n",
      "exception calling callback for <Future at 0x7f643467a748 state=finished raised TerminatedWorkerError>\n",
      "Traceback (most recent call last):\n",
      "  File \"/home/kaj/.local/lib/python3.6/site-packages/sklearn/externals/joblib/externals/loky/_base.py\", line 625, in _invoke_callbacks\n",
      "    callback(self)\n",
      "  File \"/home/kaj/.local/lib/python3.6/site-packages/sklearn/externals/joblib/parallel.py\", line 309, in __call__\n",
      "    self.parallel.dispatch_next()\n",
      "  File \"/home/kaj/.local/lib/python3.6/site-packages/sklearn/externals/joblib/parallel.py\", line 731, in dispatch_next\n",
      "    if not self.dispatch_one_batch(self._original_iterator):\n",
      "  File \"/home/kaj/.local/lib/python3.6/site-packages/sklearn/externals/joblib/parallel.py\", line 759, in dispatch_one_batch\n",
      "    self._dispatch(tasks)\n",
      "  File \"/home/kaj/.local/lib/python3.6/site-packages/sklearn/externals/joblib/parallel.py\", line 716, in _dispatch\n",
      "    job = self._backend.apply_async(batch, callback=cb)\n",
      "  File \"/home/kaj/.local/lib/python3.6/site-packages/sklearn/externals/joblib/_parallel_backends.py\", line 510, in apply_async\n",
      "    future = self._workers.submit(SafeFunction(func))\n",
      "  File \"/home/kaj/.local/lib/python3.6/site-packages/sklearn/externals/joblib/externals/loky/reusable_executor.py\", line 151, in submit\n",
      "    fn, *args, **kwargs)\n",
      "  File \"/home/kaj/.local/lib/python3.6/site-packages/sklearn/externals/joblib/externals/loky/process_executor.py\", line 1022, in submit\n",
      "    raise self._flags.broken\n",
      "sklearn.externals.joblib.externals.loky.process_executor.TerminatedWorkerError: A worker process managed by the executor was unexpectedly terminated. This could be caused by a segmentation fault while calling the function or by an excessive memory usage causing the Operating System to kill the worker. The exit codes of the workers are {SIGBUS(-7)}\n"
     ]
    }
   ],
   "source": [
    "'''\n",
    "Get the best parameters\n",
    "\n",
    "NOTE: This cell takes a long time to compute. With the Intel i7 7900 it took ~50 minutes.\n",
    "'''\n",
    "\n",
    "from sklearn.model_selection import GridSearchCV\n",
    "from sklearn.metrics import classification_report\n",
    "\n",
    "# Split the dataset in two equal parts\n",
    "X_train = train_set\n",
    "X_test = test_set\n",
    "y_train = train_labels\n",
    "y_test = test_labels\n",
    "\n",
    "layers = [(x,) for x in range(1,10)]\n",
    "# layers += [(x, y) for x in range(1,10) for y in range(1,10) ]\n",
    "\n",
    "\n",
    "parameters = {'solver': ['lbfgs'], 'max_iter': [1000,1100,1200,1300,1400,1500,1600,1700,1800,1900,2000], 'alpha': 10.0 ** np.arange(-10, 5), 'hidden_layer_sizes':layers, 'random_state':[0,1,2,3,4,5,6,7,8,9]}\n",
    "\n",
    "clf = GridSearchCV(MLPClassifier(), parameters, n_jobs=-1)\n",
    "clf.fit(X_train, y_train)\n",
    "\n",
    "print(\"Best parameters set found on development set:\")\n",
    "print()\n",
    "print(clf.best_params_)\n",
    "print()\n",
    "print(\"Grid scores on development set:\")\n",
    "print()\n",
    "means = clf.cv_results_['mean_test_score']\n",
    "stds = clf.cv_results_['std_test_score']\n",
    "for mean, std, params in zip(means, stds, clf.cv_results_['params']):\n",
    "    print(\"%0.3f (+/-%0.03f) for %r\"\n",
    "          % (mean, std * 2, params))\n",
    "print()\n",
    "\n",
    "print(\"Detailed classification report:\")\n",
    "print()\n",
    "print(\"The model is trained on the full development set.\")\n",
    "print(\"The scores are computed on the full evaluation set.\")\n",
    "print()\n",
    "y_true, y_pred = y_test, clf.predict(X_test)\n",
    "print(classification_report(y_true, y_pred))\n"
   ]
  },
  {
   "cell_type": "code",
   "execution_count": null,
   "metadata": {},
   "outputs": [],
   "source": [
    "'''\n",
    "Use the best parameters to predict the validation labels\n",
    "'''\n",
    "\n",
    "# create the ML model and fit the data\n",
    "test_clf = MLPClassifier(clf.best_params_)\n",
    "\n",
    "# fit the model\n",
    "test_clf.fit(train_set, train_labels) \n",
    "\n",
    "# predict the labels\n",
    "pred = test_clf.predict(test_set)"
   ]
  },
  {
   "cell_type": "code",
   "execution_count": null,
   "metadata": {},
   "outputs": [],
   "source": [
    "# print the prediction\n",
    "print(pred)"
   ]
  },
  {
   "cell_type": "code",
   "execution_count": null,
   "metadata": {},
   "outputs": [],
   "source": [
    "# calculate and print the accuracy\n",
    "print(metrics.accuracy_score(pred, test_labels))"
   ]
  },
  {
   "cell_type": "code",
   "execution_count": null,
   "metadata": {},
   "outputs": [],
   "source": []
  }
 ],
 "metadata": {
  "kernelspec": {
   "display_name": "Python 3",
   "language": "python",
   "name": "python3"
  },
  "language_info": {
   "codemirror_mode": {
    "name": "ipython",
    "version": 3
   },
   "file_extension": ".py",
   "mimetype": "text/x-python",
   "name": "python",
   "nbconvert_exporter": "python",
   "pygments_lexer": "ipython3",
   "version": "3.6.7"
  }
 },
 "nbformat": 4,
 "nbformat_minor": 2
}
