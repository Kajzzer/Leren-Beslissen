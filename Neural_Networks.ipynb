{
 "cells": [
  {
   "cell_type": "markdown",
   "metadata": {},
   "source": [
    "# Multiple neural networks\n",
    "\n",
    "The standard NN of sklearn, play with the parameters"
   ]
  },
  {
   "cell_type": "code",
   "execution_count": null,
   "metadata": {},
   "outputs": [],
   "source": [
    "import numpy as np\n",
    "import pandas as pd\n",
    "\n",
    "from sklearn import metrics\n",
    "from sklearn.neural_network import MLPClassifier"
   ]
  },
  {
   "cell_type": "code",
   "execution_count": null,
   "metadata": {},
   "outputs": [],
   "source": [
    "# get the data sets\n",
    "train_set = pd.read_csv(\"preprocessed_train_split_feat.csv\")\n",
    "test_set = pd.read_csv(\"preprocessed_validation_split_feat.csv\")\n",
    "\n",
    "# get the labels\n",
    "train_labels = np.asarray(list(pd.read_csv(\"train_split_label.csv\").Label))\n",
    "test_labels = np.asarray(list(pd.read_csv(\"validation_split_label.csv\").Label))"
   ]
  },
  {
   "cell_type": "code",
   "execution_count": null,
   "metadata": {},
   "outputs": [],
   "source": [
    "# create the ML model and fit the data\n",
    "clf = MLPClassifier(solver='lbfgs', alpha=1e-5,\n",
    "                    hidden_layer_sizes=(12, 6), random_state=2)\n",
    "\n",
    "clf.fit(train_set, train_labels)                         "
   ]
  },
  {
   "cell_type": "code",
   "execution_count": null,
   "metadata": {},
   "outputs": [],
   "source": [
    "# predict the labels\n",
    "pred = clf.predict(test_set)"
   ]
  },
  {
   "cell_type": "code",
   "execution_count": null,
   "metadata": {},
   "outputs": [],
   "source": [
    "# calculate the accuracy\n",
    "print(metrics.accuracy_score(pred, test_labels))"
   ]
  },
  {
   "cell_type": "code",
   "execution_count": null,
   "metadata": {},
   "outputs": [],
   "source": [
    "max_score = 0\n",
    "\n",
    "for g in range(1, 10):\n",
    "    for h in range(1,10):\n",
    "        for i in range(1, 10):\n",
    "            for j in range(1, 10):\n",
    "                for k in range(-10,4):\n",
    "                    # create the ML model and fit the data\n",
    "                    clf = MLPClassifier(solver='lbfgs', alpha=1**k,\n",
    "                                        hidden_layer_sizes=(g, h, i, j))\n",
    "\n",
    "                    clf.fit(train_set, train_labels) \n",
    "\n",
    "                    pred = clf.predict(test_set)\n",
    "                    score = metrics.accuracy_score(pred, test_labels)\n",
    "\n",
    "                    if score > max_score:\n",
    "                        max_score = score\n",
    "                        best_pred = pred\n",
    "                        max_values = [g, h, i, j, k]\n",
    "\n",
    "print(max_values, max_score)"
   ]
  },
  {
   "cell_type": "code",
   "execution_count": null,
   "metadata": {},
   "outputs": [],
   "source": [
    "# 3, 1, 3, -3\n",
    "# 3, 1, 4, -5\n",
    "# 3, 3, 2, -3\n",
    "# 2, 3, 1, -5\n",
    "\n",
    "# 8, 2, 7, -7 0.666666666\n"
   ]
  }
 ],
 "metadata": {
  "kernelspec": {
   "display_name": "Python 3",
   "language": "python",
   "name": "python3"
  },
  "language_info": {
   "codemirror_mode": {
    "name": "ipython",
    "version": 3
   },
   "file_extension": ".py",
   "mimetype": "text/x-python",
   "name": "python",
   "nbconvert_exporter": "python",
   "pygments_lexer": "ipython3",
   "version": "3.6.7"
  }
 },
 "nbformat": 4,
 "nbformat_minor": 2
}
