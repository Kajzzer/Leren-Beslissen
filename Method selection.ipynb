{
 "cells": [
  {
   "cell_type": "markdown",
   "metadata": {},
   "source": [
    "# Method selection"
   ]
  },
  {
   "cell_type": "code",
   "execution_count": 1,
   "metadata": {},
   "outputs": [],
   "source": [
    "import numpy as np\n",
    "import pandas as pd\n",
    "\n",
    "from sklearn.decomposition import PCA\n",
    "from sklearn.feature_selection import SelectKBest"
   ]
  },
  {
   "cell_type": "code",
   "execution_count": 3,
   "metadata": {},
   "outputs": [
    {
     "name": "stdout",
     "output_type": "stream",
     "text": [
      "(207, 15) (60, 15) (207,) (60,)\n"
     ]
    }
   ],
   "source": [
    "# get the data sets\n",
    "train_set = pd.read_csv(\"preprocessed_train_split_feat.csv\")\n",
    "test_set = pd.read_csv(\"preprocessed_validation_split_feat.csv\")\n",
    "\n",
    "# get the labels\n",
    "train_labels = np.asarray(list(pd.read_csv(\"train_split_label.csv\").Label))\n",
    "test_labels = np.asarray(list(pd.read_csv(\"validation_split_label.csv\").Label))\n",
    "\n",
    "print(train_set.shape, test_set.shape, train_labels.shape, test_labels.shape)"
   ]
  },
  {
   "cell_type": "markdown",
   "metadata": {},
   "source": [
    "# k-Nearest Neighbours"
   ]
  },
  {
   "cell_type": "code",
   "execution_count": 4,
   "metadata": {},
   "outputs": [],
   "source": [
    "from sklearn import metrics\n",
    "from sklearn.neighbors import KNeighborsClassifier"
   ]
  },
  {
   "cell_type": "code",
   "execution_count": 5,
   "metadata": {},
   "outputs": [],
   "source": [
    "# create the ML model, fit the data and predict the labels\n",
    "clf = KNeighborsClassifier(n_neighbors=4)\n",
    "clf.fit(train, train_labels)\n",
    "clf_pred = clf.predict(test) # 1.0"
   ]
  },
  {
   "cell_type": "code",
   "execution_count": 6,
   "metadata": {},
   "outputs": [
    {
     "data": {
      "text/plain": [
       "array(['sitting', 'lying', 'lying', 'lift', 'sitting', 'lying', 'sitting',\n",
       "       'sitting', 'sitting', 'sitting', 'sitting', 'sitting', 'sitting',\n",
       "       'sitting', 'lying', 'sitting', 'sitting', 'sitting', 'sitting',\n",
       "       'lying', 'standing', 'lift', 'lift', 'snowboarding', 'sitting',\n",
       "       'lift', 'lift', 'lift', 'standing', 'lift', 'standing', 'standing',\n",
       "       'lift', 'lift', 'lift', 'lift', 'lift', 'lift', 'standing', 'lift',\n",
       "       'lift', 'sitting', 'lift', 'lift', 'lift', 'lying', 'lift',\n",
       "       'lying', 'lift', 'standing', 'lift', 'lying', 'lift', 'standing',\n",
       "       'lift', 'standing', 'lift', 'lift', 'sitting', 'standing'],\n",
       "      dtype='<U12')"
      ]
     },
     "execution_count": 6,
     "metadata": {},
     "output_type": "execute_result"
    }
   ],
   "source": [
    "clf_pred"
   ]
  },
  {
   "cell_type": "code",
   "execution_count": 7,
   "metadata": {},
   "outputs": [
    {
     "name": "stdout",
     "output_type": "stream",
     "text": [
      "0.3333333333333333\n"
     ]
    }
   ],
   "source": [
    "# calculate the accuracy\n",
    "print(metrics.accuracy_score(clf_pred, test_labels))"
   ]
  },
  {
   "cell_type": "markdown",
   "metadata": {},
   "source": [
    "# Naive Bayes"
   ]
  },
  {
   "cell_type": "code",
   "execution_count": 8,
   "metadata": {},
   "outputs": [],
   "source": [
    "from sklearn.naive_bayes import GaussianNB\n",
    "from sklearn.naive_bayes import ComplementNB"
   ]
  },
  {
   "cell_type": "code",
   "execution_count": 9,
   "metadata": {},
   "outputs": [],
   "source": [
    "# create the ML model, fit the data and predict the labels\n",
    "clf = GaussianNB()\n",
    "clf.fit(train, train_labels)\n",
    "clf_pred = clf.predict(test)"
   ]
  },
  {
   "cell_type": "code",
   "execution_count": 10,
   "metadata": {},
   "outputs": [
    {
     "name": "stdout",
     "output_type": "stream",
     "text": [
      "0.2833333333333333\n"
     ]
    }
   ],
   "source": [
    "# calculate the accuracy\n",
    "print(metrics.accuracy_score(clf_pred, test_labels))"
   ]
  },
  {
   "cell_type": "markdown",
   "metadata": {},
   "source": [
    "# Decision Tree"
   ]
  },
  {
   "cell_type": "code",
   "execution_count": 11,
   "metadata": {},
   "outputs": [],
   "source": [
    "from sklearn import tree"
   ]
  },
  {
   "cell_type": "code",
   "execution_count": 12,
   "metadata": {},
   "outputs": [
    {
     "data": {
      "text/plain": [
       "0.43333333333333335"
      ]
     },
     "execution_count": 12,
     "metadata": {},
     "output_type": "execute_result"
    }
   ],
   "source": [
    "# create the ML model, fit the data and predict the labels\n",
    "clf = tree.DecisionTreeClassifier()\n",
    "clf.fit(train, train_labels)\n",
    "clf.feature_importances_ # [ 1.,  0.,  0.]\n",
    "\n",
    "# calculate the accuracy\n",
    "clf.score(X=test, y=test_labels) # 1.0"
   ]
  },
  {
   "cell_type": "markdown",
   "metadata": {},
   "source": [
    "# Neural Network"
   ]
  },
  {
   "cell_type": "code",
   "execution_count": 13,
   "metadata": {},
   "outputs": [],
   "source": [
    "from sklearn.neural_network import MLPClassifier"
   ]
  },
  {
   "cell_type": "code",
   "execution_count": 16,
   "metadata": {},
   "outputs": [],
   "source": [
    "# create the ML model and fit the data\n",
    "clf = MLPClassifier(solver='lbfgs', alpha=1e-5,\n",
    "                    hidden_layer_sizes=(12, 6), random_state=1)\n",
    "\n",
    "clf.fit(train, train_labels)     \n",
    "clf_pred = clf.predict(test)"
   ]
  },
  {
   "cell_type": "code",
   "execution_count": 17,
   "metadata": {},
   "outputs": [
    {
     "name": "stdout",
     "output_type": "stream",
     "text": [
      "0.18333333333333332\n"
     ]
    }
   ],
   "source": [
    "# calculate the accuracy\n",
    "print(metrics.accuracy_score(clf_pred, test_labels))"
   ]
  },
  {
   "cell_type": "code",
   "execution_count": null,
   "metadata": {},
   "outputs": [],
   "source": []
  },
  {
   "cell_type": "code",
   "execution_count": null,
   "metadata": {},
   "outputs": [],
   "source": []
  }
 ],
 "metadata": {
  "kernelspec": {
   "display_name": "Python 3",
   "language": "python",
   "name": "python3"
  },
  "language_info": {
   "codemirror_mode": {
    "name": "ipython",
    "version": 3
   },
   "file_extension": ".py",
   "mimetype": "text/x-python",
   "name": "python",
   "nbconvert_exporter": "python",
   "pygments_lexer": "ipython3",
   "version": "3.6.7"
  }
 },
 "nbformat": 4,
 "nbformat_minor": 2
}
