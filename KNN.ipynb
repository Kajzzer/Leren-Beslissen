{
 "cells": [
  {
   "cell_type": "markdown",
   "metadata": {},
   "source": [
    "## This is the K-nearest Neighbours algorithm"
   ]
  },
  {
   "cell_type": "code",
   "execution_count": 1,
   "metadata": {},
   "outputs": [],
   "source": [
    "# import block\n",
    "\n",
    "import pandas as pd\n",
    "from collections import Counter \n",
    "from collections import defaultdict\n",
    "import random\n",
    "import math\n",
    "import matplotlib.pyplot as plt\n",
    "import numpy as np\n",
    "import os\n",
    "from sklearn.neighbors import KNeighborsClassifier\n",
    "from sklearn import metrics\n",
    "from scipy import spatial\n",
    "\n",
    "%matplotlib inline\n"
   ]
  },
  {
   "cell_type": "markdown",
   "metadata": {},
   "source": [
    "## This block will read in all the needed csv files"
   ]
  },
  {
   "cell_type": "code",
   "execution_count": 2,
   "metadata": {},
   "outputs": [
    {
     "data": {
      "text/html": [
       "<div>\n",
       "<style scoped>\n",
       "    .dataframe tbody tr th:only-of-type {\n",
       "        vertical-align: middle;\n",
       "    }\n",
       "\n",
       "    .dataframe tbody tr th {\n",
       "        vertical-align: top;\n",
       "    }\n",
       "\n",
       "    .dataframe thead th {\n",
       "        text-align: right;\n",
       "    }\n",
       "</style>\n",
       "<table border=\"1\" class=\"dataframe\">\n",
       "  <thead>\n",
       "    <tr style=\"text-align: right;\">\n",
       "      <th></th>\n",
       "      <th>HR</th>\n",
       "      <th>BR</th>\n",
       "      <th>Posture</th>\n",
       "      <th>Activity</th>\n",
       "      <th>PeakAccel</th>\n",
       "      <th>HRConfidence</th>\n",
       "      <th>VerticalMin</th>\n",
       "      <th>VerticalPeak</th>\n",
       "      <th>LateralMin</th>\n",
       "      <th>LateralPeak</th>\n",
       "      <th>SagittalMin</th>\n",
       "      <th>SagittalPeak</th>\n",
       "    </tr>\n",
       "  </thead>\n",
       "  <tbody>\n",
       "    <tr>\n",
       "      <th>0</th>\n",
       "      <td>135.916667</td>\n",
       "      <td>21.883333</td>\n",
       "      <td>17.766667</td>\n",
       "      <td>0.151833</td>\n",
       "      <td>0.302667</td>\n",
       "      <td>97.950000</td>\n",
       "      <td>-0.950833</td>\n",
       "      <td>-0.679833</td>\n",
       "      <td>-0.069167</td>\n",
       "      <td>0.151000</td>\n",
       "      <td>-0.413833</td>\n",
       "      <td>-0.057833</td>\n",
       "    </tr>\n",
       "    <tr>\n",
       "      <th>1</th>\n",
       "      <td>136.766667</td>\n",
       "      <td>22.576667</td>\n",
       "      <td>21.516667</td>\n",
       "      <td>0.320667</td>\n",
       "      <td>0.688667</td>\n",
       "      <td>79.433333</td>\n",
       "      <td>-1.098333</td>\n",
       "      <td>-0.314167</td>\n",
       "      <td>-0.135000</td>\n",
       "      <td>0.219000</td>\n",
       "      <td>-0.643333</td>\n",
       "      <td>0.013500</td>\n",
       "    </tr>\n",
       "    <tr>\n",
       "      <th>2</th>\n",
       "      <td>150.483333</td>\n",
       "      <td>30.836667</td>\n",
       "      <td>4.766667</td>\n",
       "      <td>0.210833</td>\n",
       "      <td>0.403167</td>\n",
       "      <td>87.600000</td>\n",
       "      <td>-1.208500</td>\n",
       "      <td>-0.720833</td>\n",
       "      <td>-0.139833</td>\n",
       "      <td>0.118667</td>\n",
       "      <td>-0.269833</td>\n",
       "      <td>0.141833</td>\n",
       "    </tr>\n",
       "  </tbody>\n",
       "</table>\n",
       "</div>"
      ],
      "text/plain": [
       "           HR         BR    Posture  Activity  PeakAccel  HRConfidence  \\\n",
       "0  135.916667  21.883333  17.766667  0.151833   0.302667     97.950000   \n",
       "1  136.766667  22.576667  21.516667  0.320667   0.688667     79.433333   \n",
       "2  150.483333  30.836667   4.766667  0.210833   0.403167     87.600000   \n",
       "\n",
       "   VerticalMin  VerticalPeak  LateralMin  LateralPeak  SagittalMin  \\\n",
       "0    -0.950833     -0.679833   -0.069167     0.151000    -0.413833   \n",
       "1    -1.098333     -0.314167   -0.135000     0.219000    -0.643333   \n",
       "2    -1.208500     -0.720833   -0.139833     0.118667    -0.269833   \n",
       "\n",
       "   SagittalPeak  \n",
       "0     -0.057833  \n",
       "1      0.013500  \n",
       "2      0.141833  "
      ]
     },
     "execution_count": 2,
     "metadata": {},
     "output_type": "execute_result"
    }
   ],
   "source": [
    "# the train data and labels\n",
    "#train_feat = pd.read_csv(\"train_feat.csv\")\n",
    "#train_label1 = pd.read_csv(\"train_label.csv\")\n",
    "\n",
    "# the test data and labels\n",
    "#test_feat = pd.read_csv(\"test_feat.csv\")\n",
    "#test_label = pd.read_csv(\"test_label.csv\")\n",
    "\n",
    "\n",
    "\n",
    "#reads in the needed data from the harness\n",
    "\n",
    "pre_train_split = pd.read_csv(\"preprocessed_train_split_feat.csv\")\n",
    "\n",
    "\n",
    "\n",
    "pre_val_split = pd.read_csv(\"preprocessed_validation_split_feat.csv\")\n",
    "\n",
    "pre_test = pd.read_csv(\"preprocessed_test_feat.csv\")\n",
    "\n",
    "test_online = pd.read_csv(\"preprocessed_online_test_feat.csv\")\n",
    "\n",
    "#reads in the needed data from the labeled Go Pro data\n",
    "\n",
    "train_label = pd.read_csv(\"train_split_label.csv\")\n",
    "\n",
    "val_label = pd.read_csv(\"validation_split_label.csv\")\n",
    "\n",
    "test_label = pd.read_csv(\"test_label.csv\")\n",
    "\n",
    "online_test_label = pd.read_csv(\"online_test_label.csv\")\n",
    "\n",
    "\n",
    "test_online.iloc[:3]"
   ]
  },
  {
   "cell_type": "code",
   "execution_count": 3,
   "metadata": {},
   "outputs": [],
   "source": [
    "#this blocks gives a number to an activity\n",
    "def numeric_labels(data):\n",
    "    labels = []\n",
    "    for label in data:\n",
    "        if label == 'sitting':\n",
    "            labels.append(0)\n",
    "        elif label == 'lift':\n",
    "            labels.append(1)\n",
    "        elif label =='towlift':\n",
    "            labels.append(2)\n",
    "        elif label =='standing':\n",
    "            labels.append(3)\n",
    "        elif label =='lying':\n",
    "            labels.append(4)\n",
    "        elif label =='snowboarding':\n",
    "            labels.append(5)\n",
    "    return np.asarray(labels)\n"
   ]
  },
  {
   "cell_type": "code",
   "execution_count": 4,
   "metadata": {},
   "outputs": [],
   "source": [
    "#these are the datasets for the training set\n",
    "X = pre_train_split\n",
    "y = numeric_labels(train_label.Label)\n",
    "\n",
    "#these are the datasets for the validation set\n",
    "X_val = pre_val_split\n",
    "y_val = numeric_labels(val_label.Label)\n",
    "\n",
    "#these are the datasets for the test set\n",
    "X_testing = pre_test\n",
    "y_testing = numeric_labels(test_label.Label)\n",
    "\n",
    "#these are the datasets for the online test set\n",
    "X_test = test_online\n",
    "y_test = numeric_labels(online_test_label.Label)\n",
    "\n",
    "\n"
   ]
  },
  {
   "cell_type": "code",
   "execution_count": 5,
   "metadata": {},
   "outputs": [
    {
     "name": "stdout",
     "output_type": "stream",
     "text": [
      "Highest accuracy with the validation set= 43.333333333333336 % and uses k= 1\n"
     ]
    },
    {
     "data": {
      "image/png": "[encoded data removed]",
      "text/plain": [
       "<Figure size 432x288 with 1 Axes>"
      ]
     },
     "metadata": {},
     "output_type": "display_data"
    }
   ],
   "source": [
    "\n",
    "#KNeighborsClassifier(n_neighbors=5, weights=’uniform’, algorithm=’auto’, leaf_size=30, p=2, \n",
    "#metric=’minkowski’, metric_params=None, n_jobs=None, **kwargs)[source]\n",
    "\n",
    "#training with the preprocessed validation set\n",
    "accuracy_list = []\n",
    "for k in range(1,50):\n",
    "    neigh = KNeighborsClassifier(n_neighbors=k, weights='distance', metric='manhattan')\n",
    "    neigh.fit(X, y) \n",
    "    predicted = neigh.predict(X_val)\n",
    "    score = metrics.accuracy_score(y_val, predicted)\n",
    "    accuracy_list.append(score*100)\n",
    "        \n",
    "#print(accuracy_list)\n",
    "\n",
    "\n",
    "\n",
    "#following lines plots the graph of accuracies per number of neighbours \n",
    "plt.plot(range(1,50), accuracy_list)\n",
    "plt.xlabel('Value of K for KNN')\n",
    "plt.ylabel('Testing Accuracy')\n",
    "\n",
    "print(\"Highest accuracy with the validation set=\",max(accuracy_list),\"% and uses k=\", np.argmax(accuracy_list)+1)\n",
    "\n"
   ]
  },
  {
   "cell_type": "markdown",
   "metadata": {},
   "source": [
    "## This is with the test set"
   ]
  },
  {
   "cell_type": "code",
   "execution_count": 6,
   "metadata": {},
   "outputs": [
    {
     "name": "stdout",
     "output_type": "stream",
     "text": [
      "Highest accuracy with the test set= 59.25925925925925 % and uses k= 20\n"
     ]
    },
    {
     "data": {
      "image/png": "[encoded data removed]",
      "text/plain": [
       "<Figure size 432x288 with 1 Axes>"
      ]
     },
     "metadata": {},
     "output_type": "display_data"
    }
   ],
   "source": [
    "# Training with the test set\n",
    "\n",
    "accuracy_list2 = []\n",
    "for k in range(1,50):\n",
    "    neigh2 = KNeighborsClassifier(n_neighbors=k, weights='distance', metric='manhattan')\n",
    "    neigh2.fit(X, y) \n",
    "    predicted2 = neigh2.predict(X_testing)\n",
    "    score2 = metrics.accuracy_score(y_testing, predicted2)\n",
    "    accuracy_list2.append(score2*100)\n",
    "        \n",
    "#print(accuracy_list2)\n",
    "\n",
    "#following lines plots the graph of accuracies per number of neighbours \n",
    "plt.plot(range(1,50), accuracy_list2)\n",
    "plt.xlabel('Value of K for KNN')\n",
    "plt.ylabel('Testing Accuracy')\n",
    "\n",
    "\n",
    "print(\"Highest accuracy with the test set=\",max(accuracy_list2),\"% and uses k=\", np.argmax(accuracy_list2)+1)\n"
   ]
  },
  {
   "cell_type": "markdown",
   "metadata": {},
   "source": [
    "## This is with the online test set"
   ]
  },
  {
   "cell_type": "code",
   "execution_count": 7,
   "metadata": {},
   "outputs": [
    {
     "name": "stdout",
     "output_type": "stream",
     "text": [
      "Highest accuracy with the online test set= 43.58974358974359 % and uses k= 5 .\n"
     ]
    },
    {
     "data": {
      "image/png": "[encoded data removed]",
      "text/plain": [
       "<Figure size 432x288 with 1 Axes>"
      ]
     },
     "metadata": {},
     "output_type": "display_data"
    }
   ],
   "source": [
    "accuracy_list1 = []\n",
    "for k in range(1,50):\n",
    "    neigh1 = KNeighborsClassifier(n_neighbors=k, weights='distance', metric='manhattan')\n",
    "    neigh1.fit(X, y) \n",
    "    predicted1 = neigh1.predict(X_test)\n",
    "    score1 = metrics.accuracy_score(y_test, predicted1)\n",
    "    accuracy_list1.append(score1*100)\n",
    "        \n",
    "#print(accuracy_list1)\n",
    "\n",
    "\n",
    "#following lines plots the graph of accuracies per number of neighbours\n",
    "plt.plot(range(1,50), accuracy_list1)\n",
    "plt.xlabel('Value of K for KNN')\n",
    "plt.ylabel('Testing Accuracy')\n",
    "\n",
    "\n",
    "print(\"Highest accuracy with the online test set=\",max(accuracy_list1),\"% and uses k=\", np.argmax(accuracy_list1)+1,\".\")\n"
   ]
  },
  {
   "cell_type": "code",
   "execution_count": null,
   "metadata": {},
   "outputs": [],
   "source": []
  }
 ],
 "metadata": {
  "kernelspec": {
   "display_name": "Python 3",
   "language": "python",
   "name": "python3"
  },
  "language_info": {
   "codemirror_mode": {
    "name": "ipython",
    "version": 3
   },
   "file_extension": ".py",
   "mimetype": "text/x-python",
   "name": "python",
   "nbconvert_exporter": "python",
   "pygments_lexer": "ipython3",
   "version": "3.6.7"
  }
 },
 "nbformat": 4,
 "nbformat_minor": 2
}
