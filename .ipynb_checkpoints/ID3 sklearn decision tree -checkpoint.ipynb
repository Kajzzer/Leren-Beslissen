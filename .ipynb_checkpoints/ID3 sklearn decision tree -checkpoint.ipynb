{
 "cells": [
  {
   "cell_type": "markdown",
   "metadata": {},
   "source": [
    "# Decision Trees\n",
    "## Imports + Turning the labels into numbers for easier classification"
   ]
  },
  {
   "cell_type": "code",
   "execution_count": null,
   "metadata": {},
   "outputs": [],
   "source": [
    "'''\n",
    "Import cell\n",
    "'''\n",
    "\n",
    "import pandas as pd\n",
    "from collections import Counter \n",
    "from collections import defaultdict\n",
    "import random\n",
    "import math\n",
    "import matplotlib.pyplot as plt\n",
    "import numpy as np\n",
    "import os\n",
    "\n",
    "from sklearn import tree\n",
    "from id3 import Id3Estimator\n",
    "from sklearn.model_selection import GridSearchCV"
   ]
  },
  {
   "cell_type": "code",
   "execution_count": null,
   "metadata": {},
   "outputs": [],
   "source": [
    "'''\n",
    "Convert the labels to numeric values\n",
    "\n",
    "@param  ndarray  The labels\n",
    "@return ndarray  The converted labels\n",
    "'''\n",
    "def numeric_labels(data):\n",
    "    labels = []\n",
    "    for label in data:\n",
    "        if label == 'sitting':\n",
    "            labels.append(0)\n",
    "        elif label == 'lift':\n",
    "            labels.append(1)\n",
    "        elif label =='towlift':\n",
    "            labels.append(2)\n",
    "        elif label =='standing':\n",
    "            labels.append(3)\n",
    "        elif label =='lying':\n",
    "            labels.append(4)\n",
    "        elif label =='snowboarding':\n",
    "            labels.append(5)\n",
    "    return np.asarray(labels)\n"
   ]
  },
  {
   "cell_type": "markdown",
   "metadata": {},
   "source": [
    "## Loading in the data and readying variables for training"
   ]
  },
  {
   "cell_type": "code",
   "execution_count": null,
   "metadata": {},
   "outputs": [],
   "source": [
    "'''\n",
    "Data retrieval cell\n",
    "'''\n",
    "\n",
    "# get the data sets\n",
    "preprocessed_train_split_feat = pd.read_csv(\"preprocessed_train_split_feat.csv\")\n",
    "train_label = pd.read_csv(\"train_split_label.csv\")\n",
    "\n",
    "# get the labels\n",
    "preprocessed_validation_split_feat= pd.read_csv(\"preprocessed_validation_split_feat.csv\")\n",
    "validation_split_label = pd.read_csv(\"validation_split_label.csv\")"
   ]
  },
  {
   "cell_type": "code",
   "execution_count": null,
   "metadata": {},
   "outputs": [],
   "source": [
    "'''\n",
    "Variable assignment cell\n",
    "'''\n",
    "\n",
    "# set the variables that will be used for by the ML algorithm\n",
    "X = preprocessed_train_split_feat\n",
    "y = numeric_labels(train_label.Label)\n",
    "Xt = preprocessed_validation_split_feat\n",
    "control = numeric_labels(validation_split_label.Label)"
   ]
  },
  {
   "cell_type": "markdown",
   "metadata": {},
   "source": [
    "## Using gridsearch to find the best parameters for the ID3 decision tree, training and running the algorithm"
   ]
  },
  {
   "cell_type": "code",
   "execution_count": null,
   "metadata": {},
   "outputs": [],
   "source": [
    "parameters = {'max_depth':list(range(1,11)), 'min_samples_split':list(range(1,21)), 'prune':(True, False), 'gain_ratio':(True, False), 'is_repeating':(True, False)}\n",
    "scores= 'accuracy'\n",
    "clf = GridSearchCV(Id3Estimator(), parameters, cv=5, scoring=scores, n_jobs=-1)\n",
    "clf.fit(X, y)"
   ]
  },
  {
   "cell_type": "code",
   "execution_count": null,
   "metadata": {
    "scrolled": false
   },
   "outputs": [],
   "source": [
    "control = numeric_labels(validation_split_label.Label)\n",
    "pred_id3_grids = clf.predict(Xt)\n",
    "\n",
    "print(\"Best Score:\", clf.best_score_)\n",
    "print(\"Best params:\", clf.best_params_)"
   ]
  },
  {
   "cell_type": "code",
   "execution_count": null,
   "metadata": {},
   "outputs": [],
   "source": [
    "## 16 metrics\n",
    "### HR,BR,Posture,Activity,PeakAccel,ECGAmplitude,ECGNoise,HRConfidence,ROGState,ROGTime,VerticalMin,VerticalPeak,LateralMin,LateralPeak,SagittalMin,SagittalPeak\n",
    "\n",
    "# Best Score: 0.5314009661835749\n",
    "# Best params: {'gain_ratio': False, 'is_repeating': True, 'max_depth': 4, 'min_samples_split': 5, 'prune': True}\n",
    "\n",
    "\n",
    "# Best Score: 0.5314009661835749\n",
    "# Best params: {'gain_ratio': True, 'is_repeating': True, 'max_depth': 7, 'min_samples_split': 12, 'prune': True}\n",
    "\n",
    "# Best Score: 0.5024154589371981\n",
    "# Best params: {'gain_ratio': True, 'is_repeating': True, 'max_depth': 10, 'min_samples_split': 40, 'prune': True}\n",
    "\n",
    "\n",
    "## 4 metrics (hr br posture activity)\n",
    "### HR,BR,Posture,Activity\n",
    "\n",
    "# Best Score: 0.5217391304347826\n",
    "# Best params: {'gain_ratio': False, 'is_repeating': True, 'max_depth': 14, 'min_samples_split': 13, 'prune': True}\n",
    "\n",
    "## 5 metrics\n",
    "### HR,BR,Posture,Activity,PeakAccel\n",
    "\n",
    "# Best Score: 0.5217391304347826\n",
    "# Best params: {'gain_ratio': False, 'is_repeating': True, 'max_depth': 8, 'min_samples_split': 6, 'prune': True}\n",
    "\n",
    "\n",
    "## 11 metrics\n",
    "### HR,BR,Posture,Activity,PeakAccel,VerticalMin,VerticalPeak,LateralMin,LateralPeak,SagittalMin,SagittalPeak\n",
    "\n",
    "# Best Score: 0.5458937198067633\n",
    "# Best params: {'criterion': 'gini', 'max_depth': 3, 'min_impurity_decrease': 0, 'min_samples_split': 2, 'random_state': 2}\n"
   ]
  },
  {
   "cell_type": "markdown",
   "metadata": {},
   "source": [
    "## Using gridsearch to find the best parameters for the sklearn decision tree classifier, training and running the model"
   ]
  },
  {
   "cell_type": "code",
   "execution_count": null,
   "metadata": {},
   "outputs": [],
   "source": [
    "parameters = {'max_depth':list(range(1,7)), 'min_samples_split':list(range(2,11)), 'min_impurity_decrease':[0, 0.01, 0.1, 0,2, 1], 'random_state':list(range(0,10)), 'criterion':['entropy', 'gini']}\n",
    "scores= 'accuracy'\n",
    "clf = GridSearchCV(tree.DecisionTreeClassifier(), parameters, cv=5, scoring=scores, n_jobs=-1)\n",
    "clf.fit(X, y)\n",
    "print(clf.cv_results_)\n"
   ]
  },
  {
   "cell_type": "code",
   "execution_count": null,
   "metadata": {
    "scrolled": false
   },
   "outputs": [],
   "source": [
    "control = numeric_labels(validation_split_label.Label)\n",
    "pred_des = clf.predict(Xt)\n",
    "\n",
    "\n",
    "print(\"Best Score:\", clf.best_score_)\n",
    "print(\"Best params:\", clf.best_params_)"
   ]
  },
  {
   "cell_type": "code",
   "execution_count": null,
   "metadata": {},
   "outputs": [],
   "source": [
    "metric_amount = [4, 5, 11, 16]\n",
    "accuracy_p_metric = [0.6183574879227053, 0.5942028985507246, 0.5458937198067633,  0.6280193236714976]\n",
    "\n",
    "fig, ax1 = plt.subplots()\n",
    "ax1.set_xlabel('Metric amount')\n",
    "ax1.set_ylabel('Accuracy score')\n",
    "ax1.plot(metric_amount, accuracy_p_metric , 'ro')\n",
    "ax1.set_ylim(0, 1)\n",
    "ax1.set_xlim(0, 16)\n",
    "# ax1.tick_params(axis='y', labelcolor=color)\n"
   ]
  },
  {
   "cell_type": "code",
   "execution_count": null,
   "metadata": {},
   "outputs": [],
   "source": [
    "## 16 metrics\n",
    "### HR,BR,Posture,Activity,PeakAccel,ECGAmplitude,ECGNoise,HRConfidence,ROGState,ROGTime,VerticalMin,VerticalPeak,LateralMin,LateralPeak,SagittalMin,SagittalPeak\n",
    "\n",
    "# Best Score: 0.6280193236714976\n",
    "# Best params: {'criterion': 'entropy', 'max_depth': 3, 'min_impurity_decrease': 0.1, 'min_samples_split': 2, 'random_state': 1}\n",
    "\n",
    "\n",
    "## 4 metrics \n",
    "### HR,BR,Posture,Activity\n",
    "\n",
    "# Best Score: 0.6183574879227053\n",
    "# Best params: {'criterion': 'entropy', 'max_depth': 5, 'min_impurity_decrease': 0, 'min_samples_split': 2, 'random_state': 5}\n",
    "\n",
    "\n",
    "## 5 metrics\n",
    "### HR,BR,Posture,Activity,PeakAccel\n",
    "\n",
    "# Best Score: 0.5942028985507246\n",
    "# Best params: {'criterion': 'entropy', 'max_depth': 5, 'min_impurity_decrease': 0, 'min_samples_split': 2, 'random_state': 3}\n",
    "\n",
    "\n",
    "## 11 metrics \n",
    "### HR,BR,Posture,Activity,PeakAccel,VerticalMin,VerticalPeak,LateralMin,LateralPeak,SagittalMin,SagittalPeak\n",
    "\n",
    "# Best Score: 0.5458937198067633\n",
    "# Best params: {'criterion': 'gini', 'max_depth': 3, 'min_impurity_decrease': 0, 'min_samples_split': 2, 'random_state': 2}\n"
   ]
  }
 ],
 "metadata": {
  "kernelspec": {
   "display_name": "Python 3",
   "language": "python",
   "name": "python3"
  },
  "language_info": {
   "codemirror_mode": {
    "name": "ipython",
    "version": 3
   },
   "file_extension": ".py",
   "mimetype": "text/x-python",
   "name": "python",
   "nbconvert_exporter": "python",
   "pygments_lexer": "ipython3",
   "version": "3.6.7"
  }
 },
 "nbformat": 4,
 "nbformat_minor": 2
}
