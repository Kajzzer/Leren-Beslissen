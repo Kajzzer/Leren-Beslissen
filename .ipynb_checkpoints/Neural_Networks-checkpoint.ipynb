{
 "cells": [
  {
   "cell_type": "markdown",
   "metadata": {},
   "source": [
    "# Multiple neural networks\n",
    "\n",
    "The standard NN of sklearn first, then the (R)NN of Keras"
   ]
  },
  {
   "cell_type": "code",
   "execution_count": null,
   "metadata": {},
   "outputs": [],
   "source": [
    "import numpy as np\n",
    "import pandas as pd\n",
    "\n",
    "import tensorflow as tf\n",
    "\n",
    "import keras\n",
    "from keras.models import Sequential\n",
    "from keras.layers import Dense, Dropout, RNN\n",
    "from keras.optimizers import RMSprop\n",
    "import keras.backend as K\n",
    "\n",
    "from sklearn.model_selection import train_test_split\n",
    "from sklearn.metrics import roc_auc_score\n",
    "from sklearn import metrics\n",
    "from sklearn.neural_network import MLPClassifier"
   ]
  },
  {
   "cell_type": "code",
   "execution_count": null,
   "metadata": {},
   "outputs": [],
   "source": [
    "# get the data sets and print the dimensions\n",
    "x_train_df = pd.read_csv(\"preprocessed_train_split_feat.csv\")\n",
    "print(\"Training data shape:\", x_train_df.shape)\n",
    "\n",
    "x_test_df = pd.read_csv(\"preprocessed_validation_split_feat.csv\")\n",
    "print(\"Test data shape:\", x_test_df.shape)\n",
    "\n",
    "\n",
    "# get the labels and print the dimensions\n",
    "y_train_df = pd.read_csv(\"train_split_label.csv\").Label\n",
    "print(\"Training label shape:\", y_train_df.shape)\n",
    "\n",
    "y_test_df = pd.read_csv(\"validation_split_label.csv\").Label\n",
    "print(\"Test label shape:\", y_test_df.shape)"
   ]
  },
  {
   "cell_type": "code",
   "execution_count": null,
   "metadata": {},
   "outputs": [],
   "source": [
    "# create the ML model and fit the data\n",
    "clf = MLPClassifier(solver='lbfgs', alpha=1e-5,\n",
    "                    hidden_layer_sizes=(12, 6), random_state=2)\n",
    "\n",
    "clf.fit(x_train_df, y_train_df)                         "
   ]
  },
  {
   "cell_type": "code",
   "execution_count": null,
   "metadata": {},
   "outputs": [],
   "source": [
    "# predict the labels\n",
    "pred = clf.predict(x_test_df)\n",
    "pred"
   ]
  },
  {
   "cell_type": "code",
   "execution_count": null,
   "metadata": {},
   "outputs": [],
   "source": [
    "# calculate the accuracy\n",
    "print(metrics.accuracy_score(pred, y_test_df))"
   ]
  },
  {
   "cell_type": "code",
   "execution_count": null,
   "metadata": {},
   "outputs": [],
   "source": [
    "# # First, let's define a RNN Cell, as a layer subclass.\n",
    "\n",
    "# class MinimalRNNCell(keras.layers.Layer):\n",
    "\n",
    "#     def __init__(self, units, **kwargs):\n",
    "#         self.units = units\n",
    "#         self.state_size = units\n",
    "#         super(MinimalRNNCell, self).__init__(**kwargs)\n",
    "\n",
    "#     def build(self, input_shape):\n",
    "#         self.kernel = self.add_weight(shape=(input_shape[-1], self.units),\n",
    "#                                       initializer='uniform',\n",
    "#                                       name='kernel')\n",
    "#         self.recurrent_kernel = self.add_weight(\n",
    "#             shape=(self.units, self.units),\n",
    "#             initializer='uniform',\n",
    "#             name='recurrent_kernel')\n",
    "#         self.built = True\n",
    "\n",
    "#     def call(self, inputs, states):\n",
    "#         prev_output = states[0]\n",
    "#         h = K.dot(inputs, self.kernel)\n",
    "#         output = h + K.dot(prev_output, self.recurrent_kernel)\n",
    "#         return output, [output]\n",
    "\n",
    "# # Let's use this cell in a RNN layer:\n",
    "\n",
    "# cell = MinimalRNNCell(32)\n",
    "# x = keras.Input((None, 5))\n",
    "# layer = RNN(cell)\n",
    "# y = layer(x)\n",
    "\n",
    "# # Here's how to use the cell to build a stacked RNN:\n",
    "\n",
    "# cells = [MinimalRNNCell(32), MinimalRNNCell(64)]\n",
    "# x = keras.Input((None, 5))\n",
    "# layer = RNN(cells)\n",
    "# y = layer(x)"
   ]
  },
  {
   "cell_type": "code",
   "execution_count": null,
   "metadata": {},
   "outputs": [],
   "source": [
    "# def create_rnn_model():\n",
    "#     # Input layers\n",
    "#     teacher_number_of_previously_posted_projects = keras.layers.Input(shape=(1,), name=\"teacher_number_of_previously_posted_projects\")\n",
    "#     project_title = keras.layers.Input(shape=(MAX_PROJECT_TITLE_SEQ_LEN,), name=\"project_title\")\n",
    "#     project_essay = keras.layers.Input(shape=(MAX_PROJECT_ESSAY_SEQ_LEN,), name=\"project_essay\")\n",
    "#     #project_resource_summary = keras.layers.Input(shape=(MAX_PROJECT_RESOURCE_SUMMARY_SEQ_LEN,), name=\"project_resource_summary\")\n",
    "    \n",
    "#     # Embedding layers\n",
    "#     #emb_project_title = keras.layers.Embedding(MAX_PROJECT_TITLE, 25)(project_title)\n",
    "#     #emb_project_essay = keras.layers.Embedding(MAX_PROJECT_ESSAY, 50)(project_essay)\n",
    "#     emb_layer = keras.layers.Embedding(MAX_TEXT, 50)\n",
    "#     emb_project_title = emb_layer(project_title)\n",
    "#     emb_project_essay = emb_layer(project_essay)\n",
    "    \n",
    "#     # RNN layers\n",
    "#     rnn_project_title = keras.layers.GRU(8, activation=\"relu\")(emb_project_title)\n",
    "#     rnn_project_essay = keras.layers.GRU(16, activation=\"relu\")(emb_project_essay)\n",
    "#     #rnn_project_resource_summary = keras.layers.GRU(16, activation=\"relu\")(emb_project_resource_summary)\n",
    "    \n",
    "#     # Merge all layers into one\n",
    "#     x = keras.layers.concatenate([teacher_number_of_previously_posted_projects,\n",
    "#                                  rnn_project_title,\n",
    "#                                  rnn_project_essay,\n",
    "#                                  #rnn_project_resource_summary,\n",
    "#                                  ])\n",
    "    \n",
    "#     # Dense layers\n",
    "#     #x = keras.layers.Dense(128, activation=\"relu\")(x)\n",
    "\n",
    "#     # Output layers\n",
    "#     output = keras.layers.Dense(1, activation=\"sigmoid\")(x)\n",
    "    \n",
    "#      return keras.models.Model(\n",
    "#         inputs=[teacher_number_of_previously_posted_projects,\n",
    "#                 project_title,\n",
    "#                 project_essay,\n",
    "#                 #project_resource_summary,\n",
    "#                ],\n",
    "#         outputs=output)\n",
    "\n",
    "# rnn_model = create_rnn_model()"
   ]
  },
  {
   "cell_type": "code",
   "execution_count": null,
   "metadata": {},
   "outputs": [],
   "source": []
  }
 ],
 "metadata": {
  "kernelspec": {
   "display_name": "Python 3",
   "language": "python",
   "name": "python3"
  },
  "language_info": {
   "codemirror_mode": {
    "name": "ipython",
    "version": 3
   },
   "file_extension": ".py",
   "mimetype": "text/x-python",
   "name": "python",
   "nbconvert_exporter": "python",
   "pygments_lexer": "ipython3",
   "version": "3.6.7"
  }
 },
 "nbformat": 4,
 "nbformat_minor": 2
}
