{
 "cells": [
  {
   "cell_type": "markdown",
   "metadata": {},
   "source": [
    "## This is the K-nearest Neighbours algorithm"
   ]
  },
  {
   "cell_type": "code",
   "execution_count": null,
   "metadata": {},
   "outputs": [],
   "source": [
    "# import block\n",
    "\n",
    "import pandas as pd\n",
    "from collections import Counter \n",
    "from collections import defaultdict\n",
    "import random\n",
    "import math\n",
    "import matplotlib.pyplot as plt\n",
    "import numpy as np\n",
    "import os\n",
    "from sklearn.neighbors import KNeighborsClassifier\n",
    "from sklearn import metrics\n",
    "from scipy import spatial\n",
    "\n",
    "%matplotlib inline\n"
   ]
  },
  {
   "cell_type": "markdown",
   "metadata": {},
   "source": [
    "## This block will read in all the needed csv files"
   ]
  },
  {
   "cell_type": "code",
   "execution_count": null,
   "metadata": {},
   "outputs": [],
   "source": [
    "#reads in the needed data from the harness\n",
    "pre_train_split = pd.read_csv(\"preprocessed_train_split_feat.csv\")\n",
    "\n",
    "pre_val_split = pd.read_csv(\"preprocessed_validation_split_feat.csv\")\n",
    "\n",
    "pre_test = pd.read_csv(\"preprocessed_test_feat.csv\")\n",
    "\n",
    "test_online = pd.read_csv(\"preprocessed_online_test_feat.csv\")\n",
    "\n",
    "\n",
    "#reads in the needed data from the labeled Go Pro data\n",
    "\n",
    "train_label = pd.read_csv(\"train_split_label.csv\")\n",
    "\n",
    "val_label = pd.read_csv(\"validation_split_label.csv\")\n",
    "\n",
    "test_label = pd.read_csv(\"test_label.csv\")\n",
    "\n",
    "online_test_label = pd.read_csv(\"online_test_label.csv\")\n",
    "\n",
    "# print the first 3 rows of the online test data\n",
    "test_online.iloc[:3]"
   ]
  },
  {
   "cell_type": "code",
   "execution_count": null,
   "metadata": {},
   "outputs": [],
   "source": [
    "#this blocks gives a number to an activity\n",
    "def numeric_labels(data):\n",
    "    labels = []\n",
    "    for label in data:\n",
    "        if label == 'sitting':\n",
    "            labels.append(0)\n",
    "        elif label == 'lift':\n",
    "            labels.append(1)\n",
    "        elif label =='towlift':\n",
    "            labels.append(2)\n",
    "        elif label =='standing':\n",
    "            labels.append(3)\n",
    "        elif label =='lying':\n",
    "            labels.append(4)\n",
    "        elif label =='snowboarding':\n",
    "            labels.append(5)\n",
    "    return np.asarray(labels)\n"
   ]
  },
  {
   "cell_type": "code",
   "execution_count": null,
   "metadata": {},
   "outputs": [],
   "source": [
    "#these are the datasets for the training set\n",
    "X = pre_train_split\n",
    "y = numeric_labels(train_label.Label)\n",
    "\n",
    "#these are the datasets for the validation set\n",
    "X_val = pre_val_split\n",
    "y_val = numeric_labels(val_label.Label)\n",
    "\n",
    "#these are the datasets for the test set\n",
    "X_testing = pre_test\n",
    "y_testing = numeric_labels(test_label.Label)\n",
    "\n",
    "#these are the datasets for the online test set\n",
    "X_test = test_online\n",
    "y_test = numeric_labels(online_test_label.Label)\n",
    "\n",
    "\n"
   ]
  },
  {
   "cell_type": "code",
   "execution_count": null,
   "metadata": {},
   "outputs": [],
   "source": [
    "#training with the preprocessed validation set\n",
    "accuracy_list = []\n",
    "for k in range(1,50):\n",
    "    neigh = KNeighborsClassifier(n_neighbors=k, weights='distance', metric='manhattan')\n",
    "    neigh.fit(X, y) \n",
    "    predicted = neigh.predict(X_val)\n",
    "    score = metrics.accuracy_score(y_val, predicted)\n",
    "    accuracy_list.append(score*100)\n",
    "        \n",
    "#print(accuracy_list)\n",
    "\n",
    "\n",
    "\n",
    "#following lines plots the graph of accuracies per number of neighbours \n",
    "plt.plot(range(1,50), accuracy_list)\n",
    "plt.xlabel('Value of K for KNN')\n",
    "plt.ylabel('Testing Accuracy')\n",
    "\n",
    "print(\"Highest accuracy with the validation set=\",max(accuracy_list),\"% and uses k=\", np.argmax(accuracy_list)+1)\n",
    "\n"
   ]
  },
  {
   "cell_type": "markdown",
   "metadata": {},
   "source": [
    "## This is with the test set"
   ]
  },
  {
   "cell_type": "code",
   "execution_count": null,
   "metadata": {},
   "outputs": [],
   "source": [
    "# Training with the test set\n",
    "\n",
    "accuracy_list2 = []\n",
    "for k in range(1,50):\n",
    "    neigh2 = KNeighborsClassifier(n_neighbors=k, weights='distance', metric='manhattan')\n",
    "    neigh2.fit(X, y) \n",
    "    predicted2 = neigh2.predict(X_testing)\n",
    "    score2 = metrics.accuracy_score(y_testing, predicted2)\n",
    "    accuracy_list2.append(score2*100)\n",
    "        \n",
    "#print(accuracy_list2)\n",
    "\n",
    "#following lines plots the graph of accuracies per number of neighbours \n",
    "plt.plot(range(1,50), accuracy_list2)\n",
    "plt.xlabel('Value of K for KNN')\n",
    "plt.ylabel('Testing Accuracy')\n",
    "\n",
    "\n",
    "print(\"Highest accuracy with the test set=\",max(accuracy_list2),\"% and uses k=\", np.argmax(accuracy_list2)+1)\n"
   ]
  },
  {
   "cell_type": "markdown",
   "metadata": {},
   "source": [
    "## This is with the online test set"
   ]
  },
  {
   "cell_type": "code",
   "execution_count": null,
   "metadata": {
    "scrolled": true
   },
   "outputs": [],
   "source": [
    "accuracy_list1 = []\n",
    "for k in range(1,50):\n",
    "    neigh1 = KNeighborsClassifier(n_neighbors=k, weights='distance', metric='manhattan')\n",
    "    neigh1.fit(X, y) \n",
    "    predicted1 = neigh1.predict(X_test)\n",
    "    score1 = metrics.accuracy_score(y_test, predicted1)\n",
    "    accuracy_list1.append(score1*100)\n",
    "        \n",
    "#print(accuracy_list1)\n",
    "\n",
    "\n",
    "#following lines plots the graph of accuracies per number of neighbours\n",
    "plt.plot(range(1,50), accuracy_list1)\n",
    "plt.xlabel('Value of K for KNN')\n",
    "plt.ylabel('Testing Accuracy')\n",
    "\n",
    "\n",
    "print(\"Highest accuracy with the online test set=\",max(accuracy_list1),\"% and uses k=\", np.argmax(accuracy_list1)+1,\".\")\n"
   ]
  },
  {
   "cell_type": "markdown",
   "metadata": {},
   "source": [
    "## These are the accuracies with all sets and averages"
   ]
  },
  {
   "cell_type": "code",
   "execution_count": null,
   "metadata": {},
   "outputs": [],
   "source": [
    "average_total = np.average(np.array([accuracy_list, accuracy_list2, accuracy_list1]), axis=0)\n",
    "average_tests = np.average(np.array([accuracy_list2, accuracy_list1]), axis=0)\n",
    "\n",
    "x = range(1,50)\n",
    "y = [accuracy_list, accuracy_list2, accuracy_list1, average_total, average_tests]\n",
    "labels=['validation', 'test', 'online test', 'average all', 'average tests']\n",
    "colors=['r','g','b', 'm', 'y']\n",
    "\n",
    "# loop over data, labels and colors\n",
    "for i in range(len(y)):\n",
    "    plt.plot(x,y[i],color=colors[i],label=labels[i])\n",
    "\n",
    "    \n",
    "plt.xlabel('Value of K for KNN')\n",
    "plt.ylabel('Testing Accuracy')\n",
    "plt.legend()\n",
    "plt.show()\n"
   ]
  }
 ],
 "metadata": {
  "kernelspec": {
   "display_name": "Python 3",
   "language": "python",
   "name": "python3"
  },
  "language_info": {
   "codemirror_mode": {
    "name": "ipython",
    "version": 3
   },
   "file_extension": ".py",
   "mimetype": "text/x-python",
   "name": "python",
   "nbconvert_exporter": "python",
   "pygments_lexer": "ipython3",
   "version": "3.6.7"
  }
 },
 "nbformat": 4,
 "nbformat_minor": 2
}
