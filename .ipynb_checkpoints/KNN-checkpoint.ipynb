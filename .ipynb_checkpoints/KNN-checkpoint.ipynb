{
 "cells": [
  {
   "cell_type": "markdown",
   "metadata": {},
   "source": [
    "## This is the K-nearest Neighbours algorithm"
   ]
  },
  {
   "cell_type": "code",
   "execution_count": 1,
   "metadata": {
    "collapsed": true
   },
   "outputs": [],
   "source": [
    "# import block :D\n",
    "\n",
    "import pandas as pd\n",
    "from collections import Counter \n",
    "from collections import defaultdict\n",
    "import random\n",
    "import math\n",
    "import matplotlib.pyplot as plt\n",
    "import numpy as np\n",
    "import os\n",
    "\n",
    "# pd.test()"
   ]
  },
  {
   "cell_type": "code",
   "execution_count": 2,
   "metadata": {},
   "outputs": [],
   "source": [
    "# the train data and labels\n",
    "train_feat = pd.read_csv(\"train_feat.csv\")\n",
    "train_label1 = pd.read_csv(\"train_label.csv\")\n",
    "\n",
    "# the test data and labels\n",
    "test_feat = pd.read_csv(\"test_feat.csv\")\n",
    "test_label = pd.read_csv(\"test_label.csv\")\n",
    "\n",
    "#reads in the needed data from the harness\n",
    "\n",
    "pre_train_split = pd.read_csv(\"preprocessed_train_split_feat.csv\")\n",
    "#print(pre_train_split.head())\n",
    "\n",
    "pre_val_split = pd.read_csv(\"preprocessed_validation_split_feat.csv\")\n",
    "\n",
    "#reads in the needed data from the labeled Go Pro data\n",
    "\n",
    "train_label = pd.read_csv(\"train_split_label.csv\")\n",
    "\n",
    "val_label = pd.read_csv(\"validation_split_label.csv\")\n"
   ]
  },
  {
   "cell_type": "code",
   "execution_count": 3,
   "metadata": {},
   "outputs": [],
   "source": [
    "# giving a number to an activity\n",
    "def numeric_labels(data):\n",
    "    labels = []\n",
    "    for label in data:\n",
    "        if label == 'sitting':\n",
    "            labels.append(0)\n",
    "        elif label == 'lift':\n",
    "            labels.append(1)\n",
    "        elif label =='towlift':\n",
    "            labels.append(2)\n",
    "        elif label =='standing':\n",
    "            labels.append(3)\n",
    "        elif label =='lying':\n",
    "            labels.append(4)\n",
    "        elif label =='snowboarding':\n",
    "            labels.append(5)\n",
    "    return np.asarray(labels)\n"
   ]
  },
  {
   "cell_type": "code",
   "execution_count": 8,
   "metadata": {},
   "outputs": [],
   "source": [
    "#the algoritm will work with these two values\n",
    "\n",
    "X = pre_train_split\n",
    "y = numeric_labels(train_label.Label)\n",
    "\n",
    "\n",
    "X_val = pre_val_split\n",
    "y_val = numeric_labels(val_label.Label)\n",
    "\n",
    "\n",
    "\n",
    "#with the unpreprocessed data\n",
    "\n",
    "X1 = train_feat\n",
    "y1 = numeric_labels(train_label1.Label)\n",
    "\n",
    "Xval = test_feat\n",
    "yval = numeric_labels(test_label.Label)\n"
   ]
  },
  {
   "cell_type": "code",
   "execution_count": 87,
   "metadata": {},
   "outputs": [
    {
     "name": "stdout",
     "output_type": "stream",
     "text": [
      "[40.0, 35.0, 33.333333333333329, 36.666666666666664, 38.333333333333336, 33.333333333333329, 33.333333333333329, 36.666666666666664, 36.666666666666664]\n",
      "Accuracy: 36.6666666667 %\n",
      "Accuracy: 36.6666666667 %\n"
     ]
    }
   ],
   "source": [
    "from sklearn.neighbors import KNeighborsClassifier\n",
    "from sklearn import metrics\n",
    "from scipy import spatial\n",
    "\n",
    "\n",
    "#KNeighborsClassifier(n_neighbors=5, weights=’uniform’, algorithm=’auto’, leaf_size=30, p=2, \n",
    "#metric=’minkowski’, metric_params=None, n_jobs=None, **kwargs)[source]\n",
    "\n",
    "accuracy_list = []\n",
    "for k in range(1,10):\n",
    "    neigh = KNeighborsClassifier(n_neighbors=k)\n",
    "    neigh.fit(X, y) \n",
    "    predicted = neigh.predict(X_val)\n",
    "    score = metrics.accuracy_score(y_val,predicted)\n",
    "    accuracy_list.append(score*100)\n",
    "        \n",
    "print(accuracy_list)\n",
    "\n",
    "\n",
    "#trains the model using the training labels\n",
    "neigh.fit(X, y) \n",
    "\n",
    "#makes a prediction of the response to the testset\n",
    "predicted = neigh.predict(X_val)\n",
    "\n",
    "score = metrics.accuracy_score(y_val,predicted)\n",
    "\n",
    "print(\"Accuracy:\",metrics.accuracy_score(y_val,predicted)*100,\"%\")\n",
    "\n",
    "print(\"Accuracy:\",score*100,\"%\")"
   ]
  },
  {
   "cell_type": "code",
   "execution_count": 10,
   "metadata": {},
   "outputs": [
    {
     "data": {
      "text/plain": [
       "'\\nneigh = KNeighborsClassifier(n_neighbors=1)\\n\\n#trains the model using the training labels\\nneigh.fit(X1, y1) \\n\\n#makes a prediction of the response to the testset\\npredicted1 = neigh.predict(Xval)\\n\\nscore1 = metrics.accuracy_score(yval,predicted1)\\n\\nprint(\"Accuracy:\",metrics.accuracy_score(yval,predicted1)*100,\"%\")\\n\\nprint(\"Accuracy:\",score*100,\"%\")\\n\\n'"
      ]
     },
     "execution_count": 10,
     "metadata": {},
     "output_type": "execute_result"
    }
   ],
   "source": [
    "#the knn with unpreprocessed data DOES NOT WORK >:l\n",
    "'''\n",
    "neigh = KNeighborsClassifier(n_neighbors=1)\n",
    "\n",
    "#trains the model using the training labels\n",
    "neigh.fit(X1, y1) \n",
    "\n",
    "#makes a prediction of the response to the testset\n",
    "predicted1 = neigh.predict(Xval)\n",
    "\n",
    "score1 = metrics.accuracy_score(yval,predicted1)\n",
    "\n",
    "print(\"Accuracy:\",metrics.accuracy_score(yval,predicted1)*100,\"%\")\n",
    "\n",
    "print(\"Accuracy:\",score*100,\"%\")\n",
    "\n",
    "'''"
   ]
  },
  {
   "cell_type": "code",
   "execution_count": 53,
   "metadata": {},
   "outputs": [
    {
     "name": "stdout",
     "output_type": "stream",
     "text": [
      "58.2446660099\n",
      "40.0\n"
     ]
    }
   ],
   "source": [
    "# cosine simularity\n",
    "\n",
    "from scipy import spatial\n",
    "\n",
    "def cos_sim(a, b):\n",
    "    dot_product = np.dot(a, b)\n",
    "    norm_a = np.linalg.norm(a)\n",
    "    norm_b = np.linalg.norm(b)\n",
    "    return dot_product / (norm_a * norm_b)\n",
    "\n",
    "result = cos_sim(y_val, predicted)\n",
    "\n",
    "print(result)\n",
    "\n",
    "\n",
    "\n",
    "#Euclidian distance\n",
    "\n",
    "def euclidean(a,b):\n",
    "    return np.sqrt(np.sum(a-b)**2)\n",
    "\n",
    "distance = euclidean(y_val, predicted)\n",
    "\n",
    "print(distance)"
   ]
  }
 ],
 "metadata": {
  "kernelspec": {
   "display_name": "Python 3",
   "language": "python",
   "name": "python3"
  },
  "language_info": {
   "codemirror_mode": {
    "name": "ipython",
    "version": 3
   },
   "file_extension": ".py",
   "mimetype": "text/x-python",
   "name": "python",
   "nbconvert_exporter": "python",
   "pygments_lexer": "ipython3",
   "version": "3.6.7"
  }
 },
 "nbformat": 4,
 "nbformat_minor": 2
}
