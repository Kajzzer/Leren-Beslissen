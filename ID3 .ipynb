{
 "cells": [
  {
   "cell_type": "code",
   "execution_count": 4,
   "metadata": {},
   "outputs": [],
   "source": [
    "import pandas as pd\n",
    "from collections import Counter \n",
    "from collections import defaultdict\n",
    "import random\n",
    "import math\n",
    "import matplotlib.pyplot as plt\n",
    "import numpy as np\n",
    "import os\n",
    "def numeric_labels(data):\n",
    "    labels = []\n",
    "    for label in data:\n",
    "        if label == 'sitting':\n",
    "            labels.append(0)\n",
    "        elif label == 'lift':\n",
    "            labels.append(1)\n",
    "        elif label =='towlift':\n",
    "            labels.append(2)\n",
    "        elif label =='standing':\n",
    "            labels.append(3)\n",
    "        elif label =='lying':\n",
    "            labels.append(4)\n",
    "        elif label =='snowboarding':\n",
    "            labels.append(5)\n",
    "    return np.asarray(labels)\n"
   ]
  },
  {
   "cell_type": "code",
   "execution_count": 5,
   "metadata": {},
   "outputs": [],
   "source": [
    "preprocessed_train_split_feat = pd.read_csv(\"preprocessed_train_split_feat.csv\")\n",
    "train_label = pd.read_csv(\"train_split_label.csv\")\n",
    "preprocessed_validation_split_feat= pd.read_csv(\"preprocessed_validation_split_feat.csv\")\n",
    "validation_split_label = pd.read_csv(\"validation_split_label.csv\")"
   ]
  },
  {
   "cell_type": "code",
   "execution_count": 6,
   "metadata": {},
   "outputs": [],
   "source": [
    "from sklearn import tree\n",
    "from id3 import Id3Estimator\n",
    "from id3 import export_graphviz\n",
    "\n",
    "X = preprocessed_train_split_feat\n",
    "y = numeric_labels(train_label.Label)\n",
    "Xt = preprocessed_validation_split_feat\n",
    "control = numeric_labels(validation_split_label.Label)"
   ]
  },
  {
   "cell_type": "code",
   "execution_count": 90,
   "metadata": {},
   "outputs": [],
   "source": []
  },
  {
   "cell_type": "code",
   "execution_count": 135,
   "metadata": {},
   "outputs": [
    {
     "name": "stdout",
     "output_type": "stream",
     "text": [
      "[0, 5, 56.666666666666664]\n"
     ]
    }
   ],
   "source": [
    "pref = [0,0,0]\n",
    "for k in range (6):\n",
    "    for j in range(50):\n",
    "        clf = Id3Estimator(max_depth= k,min_samples_split = j, prune = True, gain_ratio= True, is_repeating= False)\n",
    "        clf.fit(X, y)\n",
    "        predt = clf.predict(Xt)\n",
    "        total = 0\n",
    "        correct = 0\n",
    "        for i in range(len(predt)):\n",
    "            total += 1\n",
    "            if predt[i] == control[i]:\n",
    "                correct += 1\n",
    "        if (correct*100/total) > pref[2]:\n",
    "            pref = [k,j,correct*100/total]\n",
    "    \n",
    "print(pref)\n",
    "# print(k, j,'Accuracy:',correct*100/total,'%')\n",
    "\n"
   ]
  },
  {
   "cell_type": "code",
   "execution_count": 137,
   "metadata": {},
   "outputs": [],
   "source": [
    "# [1, 38, 60.0]\n",
    "# [5, 1, 56.666666666666664]\n",
    "# [4, 36, 41.666666666666664]\n",
    "# [0, 5, 56.666666666666664]"
   ]
  },
  {
   "cell_type": "code",
   "execution_count": null,
   "metadata": {},
   "outputs": [],
   "source": []
  }
 ],
 "metadata": {
  "kernelspec": {
   "display_name": "Python 3",
   "language": "python",
   "name": "python3"
  },
  "language_info": {
   "codemirror_mode": {
    "name": "ipython",
    "version": 3
   },
   "file_extension": ".py",
   "mimetype": "text/x-python",
   "name": "python",
   "nbconvert_exporter": "python",
   "pygments_lexer": "ipython3",
   "version": "3.7.2"
  }
 },
 "nbformat": 4,
 "nbformat_minor": 2
}
